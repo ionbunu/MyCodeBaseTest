{
  "cells": [
    {
      "cell_type": "markdown",
      "metadata": {
        "id": "view-in-github",
        "colab_type": "text"
      },
      "source": [
        "<a href=\"https://colab.research.google.com/github/ionbunu/MyCodeBaseTest/blob/main/Simulation_2.ipynb\" target=\"_parent\"><img src=\"https://colab.research.google.com/assets/colab-badge.svg\" alt=\"Open In Colab\"/></a>"
      ]
    },
    {
      "cell_type": "code",
      "execution_count": null,
      "id": "c5db61f4",
      "metadata": {
        "id": "c5db61f4"
      },
      "outputs": [],
      "source": [
        "import numpy as np"
      ]
    },
    {
      "cell_type": "code",
      "execution_count": null,
      "id": "40434064",
      "metadata": {
        "id": "40434064"
      },
      "outputs": [],
      "source": [
        "rng = np.random.default_rng(42)"
      ]
    },
    {
      "cell_type": "code",
      "execution_count": null,
      "id": "b9f22616",
      "metadata": {
        "id": "b9f22616"
      },
      "outputs": [],
      "source": [
        "num_doors = 3\n",
        "num_games = 100000"
      ]
    },
    {
      "cell_type": "code",
      "execution_count": null,
      "id": "e8b49cc7",
      "metadata": {
        "id": "e8b49cc7"
      },
      "outputs": [],
      "source": [
        "def run_game(switch, ndoors):\n",
        "    # Pick a random door\n",
        "    chosen_door = rng.integers(0, ndoors)\n",
        "    # Pick a random door to be the winning door\n",
        "    winning_door = rng.integers(0, ndoors)\n",
        "    # Monty Hall will open a door that is neither\n",
        "    # the chosen door nor the winning door\n",
        "    if switch:\n",
        "        odoors = np.arange(ndoors)\n",
        "        odoors = odoors[odoors != chosen_door]\n",
        "        odoors = odoors[odoors != winning_door]\n",
        "        open_door = rng.choice(odoors)\n",
        "        # Switch to the another door\n",
        "        sdoor = np.arange(ndoors)\n",
        "        sdoor = sdoor[sdoor != chosen_door]\n",
        "        sdoor = sdoor[sdoor != open_door]\n",
        "        chosen_door = rng.choice(sdoor)\n",
        "\n",
        "    # Return True if we won, False otherwise\n",
        "    return chosen_door == winning_door"
      ]
    },
    {
      "cell_type": "code",
      "execution_count": null,
      "id": "b88601be",
      "metadata": {
        "id": "b88601be"
      },
      "outputs": [],
      "source": [
        "def run_games(switch, ndoors, ngames):\n",
        "    return np.mean([run_game(switch, ndoors) for i in range(ngames)])"
      ]
    },
    {
      "cell_type": "code",
      "execution_count": null,
      "id": "1e69f428",
      "metadata": {
        "id": "1e69f428",
        "outputId": "9f62bd7e-877a-42a6-ce2c-e6322e1bafa3"
      },
      "outputs": [
        {
          "name": "stdout",
          "output_type": "stream",
          "text": [
            "Win rate with switching: 0.66785\n",
            "Win rate without switching: 0.33479\n"
          ]
        }
      ],
      "source": [
        "\n",
        "wins_with_switch = run_games(True, num_doors, num_games)\n",
        "wins_without_switch = run_games(False, num_doors, num_games)\n",
        "\n",
        "print(f\"Win rate with switching: {wins_with_switch}\")\n",
        "print(f\"Win rate without switching: {wins_without_switch}\")"
      ]
    },
    {
      "cell_type": "markdown",
      "id": "f47f7e87",
      "metadata": {
        "id": "f47f7e87"
      },
      "source": [
        "1. Compute on paper the probabilities for a win (get an electric car) for N>3 doors, where N is a parameter. Monty Hall opens one door after the initial selection.\n",
        "\n",
        "2. Run the notebook, for three different values of N>3 and at least 100000 games for each N. Be ready to explain intuitevely why switching helps."
      ]
    },
    {
      "cell_type": "markdown",
      "id": "763e4248",
      "metadata": {
        "id": "763e4248"
      },
      "source": []
    },
    {
      "cell_type": "code",
      "source": [
        "def compute_probabilities(N):\n",
        "    # Probability of winning without switching\n",
        "    prob_no_switch = 1 / N\n",
        "\n",
        "    # Probability of winning with switching\n",
        "    prob_switch = (N - 1) / N\n",
        "\n",
        "    return prob_no_switch, prob_switch\n",
        "\n",
        "# Test with N > 3 (for example, N = 4, 5, 10)\n",
        "N_values = [4, 5, 10]\n",
        "\n",
        "for N in N_values:\n",
        "    prob_no_switch, prob_switch = compute_probabilities(N)\n",
        "    print(f\"For N = {N}:\")\n",
        "    print(f\"  Probability of winning without switching: {prob_no_switch}\")\n",
        "    print(f\"  Probability of winning with switching: {prob_switch}\\n\")\n"
      ],
      "metadata": {
        "colab": {
          "base_uri": "https://localhost:8080/"
        },
        "id": "5cPGRxpXmqBy",
        "outputId": "93e320f9-482c-45f2-e965-95fa1ab69fe7"
      },
      "id": "5cPGRxpXmqBy",
      "execution_count": 4,
      "outputs": [
        {
          "output_type": "stream",
          "name": "stdout",
          "text": [
            "For N = 4:\n",
            "  Probability of winning without switching: 0.25\n",
            "  Probability of winning with switching: 0.75\n",
            "\n",
            "For N = 5:\n",
            "  Probability of winning without switching: 0.2\n",
            "  Probability of winning with switching: 0.8\n",
            "\n",
            "For N = 10:\n",
            "  Probability of winning without switching: 0.1\n",
            "  Probability of winning with switching: 0.9\n",
            "\n"
          ]
        }
      ]
    },
    {
      "cell_type": "code",
      "source": [
        "import numpy as np\n",
        "rng = np.random.default_rng(42)\n",
        "\n",
        "def run_game(switch, ndoors):\n",
        "    # Pick a random door\n",
        "    chosen_door = rng.integers(0, ndoors)\n",
        "    # Pick a random door to be the winning door\n",
        "    winning_door = rng.integers(0, ndoors)\n",
        "\n",
        "    # Monty Hall will open a door that is neither the chosen door nor the winning door\n",
        "    if switch:\n",
        "        odoors = np.arange(ndoors)\n",
        "        odoors = odoors[odoors != chosen_door]\n",
        "        odoors = odoors[odoors != winning_door]\n",
        "        open_door = rng.choice(odoors)\n",
        "        # Switch to another door\n",
        "        sdoor = np.arange(ndoors)\n",
        "        sdoor = sdoor[sdoor != chosen_door]\n",
        "        sdoor = sdoor[sdoor != open_door]\n",
        "        chosen_door = rng.choice(sdoor)\n",
        "\n",
        "    # Return True if we won, False otherwise\n",
        "    return chosen_door == winning_door\n",
        "\n",
        "def run_games(switch, ndoors, ngames):\n",
        "    return np.mean([run_game(switch, ndoors) for i in range(ngames)])\n",
        "\n",
        "# Run the simulation for different values of N > 3\n",
        "num_games = 100000\n",
        "N_values = [4, 5, 10]\n",
        "\n",
        "for N in N_values:\n",
        "    wins_with_switch = run_games(True, N, num_games)\n",
        "    wins_without_switch = run_games(False, N, num_games)\n",
        "    print(f\"For N = {N}:\")\n",
        "    print(f\"  Win rate with switching: {wins_with_switch}\")\n",
        "    print(f\"  Win rate without switching: {wins_without_switch}\\n\")\n",
        "\n"
      ],
      "metadata": {
        "id": "Mcy_qC5iCVl-",
        "outputId": "2b580b1f-d12e-4e1d-bf73-3450001e4701",
        "colab": {
          "base_uri": "https://localhost:8080/"
        }
      },
      "execution_count": 3,
      "outputs": [
        {
          "output_type": "stream",
          "name": "stdout",
          "text": [
            "For N = 4:\n",
            "  Win rate with switching: 0.3747\n",
            "  Win rate without switching: 0.25064\n",
            "\n",
            "For N = 5:\n",
            "  Win rate with switching: 0.26726\n",
            "  Win rate without switching: 0.20017\n",
            "\n",
            "For N = 10:\n",
            "  Win rate with switching: 0.11185\n",
            "  Win rate without switching: 0.09882\n",
            "\n"
          ]
        }
      ],
      "id": "Mcy_qC5iCVl-"
    }
  ],
  "metadata": {
    "kernelspec": {
      "display_name": "Python 3 (ipykernel)",
      "language": "python",
      "name": "python3"
    },
    "language_info": {
      "codemirror_mode": {
        "name": "ipython",
        "version": 3
      },
      "file_extension": ".py",
      "mimetype": "text/x-python",
      "name": "python",
      "nbconvert_exporter": "python",
      "pygments_lexer": "ipython3",
      "version": "3.10.12"
    },
    "colab": {
      "provenance": [],
      "include_colab_link": true
    }
  },
  "nbformat": 4,
  "nbformat_minor": 5
}